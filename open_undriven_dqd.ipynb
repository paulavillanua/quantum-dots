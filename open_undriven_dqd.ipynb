{
  "cells": [
    {
      "cell_type": "markdown",
      "id": "ea91b061-731b-434e-bea6-36183bafa2f9",
      "metadata": {
        "id": "ea91b061-731b-434e-bea6-36183bafa2f9"
      },
      "source": [
        "## Corriente de electrones en sistemas abiertos de dos puntos cuánticos"
      ]
    },
    {
      "cell_type": "code",
      "source": [
        "pip install qutip"
      ],
      "metadata": {
        "colab": {
          "base_uri": "https://localhost:8080/"
        },
        "id": "uTwqvkIaL_Zv",
        "outputId": "f8cd0863-124d-419d-f998-3cd8c151d7ee"
      },
      "id": "uTwqvkIaL_Zv",
      "execution_count": 2,
      "outputs": [
        {
          "output_type": "stream",
          "name": "stdout",
          "text": [
            "Collecting qutip\n",
            "  Downloading qutip-5.0.1-cp310-cp310-manylinux_2_17_x86_64.manylinux2014_x86_64.whl (27.9 MB)\n",
            "\u001b[2K     \u001b[90m━━━━━━━━━━━━━━━━━━━━━━━━━━━━━━━━━━━━━━━━\u001b[0m \u001b[32m27.9/27.9 MB\u001b[0m \u001b[31m6.6 MB/s\u001b[0m eta \u001b[36m0:00:00\u001b[0m\n",
            "\u001b[?25hRequirement already satisfied: numpy>=1.22 in /usr/local/lib/python3.10/dist-packages (from qutip) (1.25.2)\n",
            "Requirement already satisfied: scipy>=1.8 in /usr/local/lib/python3.10/dist-packages (from qutip) (1.11.4)\n",
            "Requirement already satisfied: packaging in /usr/local/lib/python3.10/dist-packages (from qutip) (24.0)\n",
            "Installing collected packages: qutip\n",
            "Successfully installed qutip-5.0.1\n"
          ]
        }
      ]
    },
    {
      "cell_type": "code",
      "execution_count": 17,
      "id": "f29c2149-5da6-41d3-bba9-64ebeda06d29",
      "metadata": {
        "id": "f29c2149-5da6-41d3-bba9-64ebeda06d29"
      },
      "outputs": [],
      "source": [
        "from joblib import delayed, Parallel\n",
        "\n",
        "from tqdm.auto import tqdm\n",
        "import numpy as np\n",
        "\n",
        "import qutip as qt\n",
        "import matplotlib.pyplot as plt\n",
        "import scipy\n",
        "%matplotlib inline"
      ]
    },
    {
      "cell_type": "markdown",
      "id": "3a889784-137b-4f81-9703-015b8f6607d7",
      "metadata": {
        "id": "3a889784-137b-4f81-9703-015b8f6607d7"
      },
      "source": [
        "El Hamiltoniano del sistema en la base $\\mathscr{B}=\\{\\ket{\\varnothing}, \\ket{L}, \\ket{R}\\}$:\n",
        "\n",
        "$H= \\begin{pmatrix}\n",
        "        0 & 0 & 0 \\\\\n",
        "        0 & \\delta/2 & \\tau/2 \\\\\n",
        "        0 & \\tau/2 & -\\delta/2\n",
        "    \\end{pmatrix}$"
      ]
    },
    {
      "cell_type": "code",
      "execution_count": 5,
      "id": "51f07858-3df0-43bf-92a7-84a9c195fbfe",
      "metadata": {
        "id": "51f07858-3df0-43bf-92a7-84a9c195fbfe"
      },
      "outputs": [],
      "source": [
        "# parámetros del sistema\n",
        "t = np.linspace(0, 100, 1000)"
      ]
    },
    {
      "cell_type": "code",
      "execution_count": 6,
      "id": "78eafffb-5f1d-4ff4-bc2f-473723aa63b9",
      "metadata": {
        "id": "78eafffb-5f1d-4ff4-bc2f-473723aa63b9"
      },
      "outputs": [],
      "source": [
        "E = qt.basis(3, 0)\n",
        "L = qt.basis(3, 1)\n",
        "R = qt.basis(3, 2)"
      ]
    },
    {
      "cell_type": "code",
      "execution_count": 20,
      "id": "b91e281b-ec77-4044-bc1e-53450721a715",
      "metadata": {
        "id": "b91e281b-ec77-4044-bc1e-53450721a715"
      },
      "outputs": [],
      "source": [
        "gammaL = 0.05\n",
        "gammaR = 0.05\n",
        "psi0 = E\n",
        "\n",
        "c1 = qt.Qobj(np.array([(0,1,0),(0,0,0),(0,0,0)]))\n",
        "c2 = qt.Qobj(np.array([(0,0,1),(0,0,0),(0,0,0)]))\n",
        "\n",
        "L1 = gammaL*c1\n",
        "L2 = gammaR*c2\n",
        "\n",
        "c_ops = [(L1).dag(),L2]"
      ]
    },
    {
      "cell_type": "markdown",
      "id": "216681e2-c647-4b4a-8b9b-764774492946",
      "metadata": {
        "id": "216681e2-c647-4b4a-8b9b-764774492946"
      },
      "source": [
        "La corriente que se medirá vendrá dada por $I=e\\rho_{RR}\\Gamma_R$. Hacemos $\\Gamma_R=\\Gamma_L$."
      ]
    },
    {
      "cell_type": "code",
      "execution_count": 21,
      "id": "7f38f2b6-1683-47e8-9f39-6ea8278a108e",
      "metadata": {
        "id": "7f38f2b6-1683-47e8-9f39-6ea8278a108e"
      },
      "outputs": [],
      "source": [
        "def pixel(delta, tau):\n",
        "    H = qt.Qobj(np.array([(0,0,0),(0,delta/2,tau/2), (0,tau/2,-delta/2)]))\n",
        "    state = qt.mesolve(H, psi0, t, c_ops, []).states\n",
        "    pRs = []\n",
        "    for time in range(len(t)):\n",
        "        pRs.append(np.abs(R.overlap(state[time]))**2)\n",
        "    pRmax = max(pRs)\n",
        "    return pRmax"
      ]
    },
    {
      "cell_type": "code",
      "execution_count": 27,
      "id": "a2847bb3-4577-430f-8ba0-5b3cb650ad52",
      "metadata": {
        "id": "a2847bb3-4577-430f-8ba0-5b3cb650ad52"
      },
      "outputs": [],
      "source": [
        "# pintamos la corriente normalizada (I=rho_RR) frente al detuning\n",
        "w = 1\n",
        "deltas = np.linspace(-6*w, 6*w, 101)\n",
        "taus = np.linspace(0, 6, 101)\n",
        "\n",
        "deltas_mat = []\n",
        "taus_mat = []\n",
        "\n",
        "for i in range(len(deltas)):\n",
        "     for j in range(len(taus)):\n",
        "        taus_mat.append(taus[j])\n",
        "        deltas_mat.append(deltas[i])"
      ]
    },
    {
      "cell_type": "code",
      "execution_count": 28,
      "id": "0c7f6f0d-3ca9-4fd6-8d93-a2bf5202fae6",
      "metadata": {
        "colab": {
          "base_uri": "https://localhost:8080/",
          "height": 49,
          "referenced_widgets": [
            "9ae2d3ba960142ee92bac616a23f5ced",
            "6c93a749a0d44b02808a803f9d2b8be1",
            "a66d70e1e2364b4eb61bc2dbf4021797",
            "7fdc146eeec84ab8ae52b24e0caa1334",
            "c54939c34a584154b1c5307589461789",
            "ef414bace79c4672ab8b558e9de7cfc9",
            "93df6a2a45f641949eba15540a75ac1f",
            "cee36919738e4329b73274626f1c773a",
            "8d5f8e4511e94d4ab68cc83884fc9dda",
            "b3ba841ff1e14ffdb755e9efab1c4709",
            "db840c82f63c41debdf141d12fd057a2"
          ]
        },
        "id": "0c7f6f0d-3ca9-4fd6-8d93-a2bf5202fae6",
        "outputId": "b96b65eb-9a1b-4d1b-c45b-2594524e8eff"
      },
      "outputs": [
        {
          "output_type": "display_data",
          "data": {
            "text/plain": [
              "Calculando...:   0%|          | 0/10201 [00:00<?, ?it/s]"
            ],
            "application/vnd.jupyter.widget-view+json": {
              "version_major": 2,
              "version_minor": 0,
              "model_id": "9ae2d3ba960142ee92bac616a23f5ced"
            }
          },
          "metadata": {}
        }
      ],
      "source": [
        "pbar = tqdm(range(len(deltas_mat)), desc='Calculando...')\n",
        "resultados = Parallel(n_jobs=16)(delayed(pixel)(deltas_mat[i], taus_mat[i]) for i in pbar)\n",
        "np.save('current_dqd.npy', resultados)"
      ]
    },
    {
      "cell_type": "code",
      "execution_count": 31,
      "id": "ab309bd2-7604-4732-bcfd-e80f48994185",
      "metadata": {
        "colab": {
          "base_uri": "https://localhost:8080/",
          "height": 474
        },
        "id": "ab309bd2-7604-4732-bcfd-e80f48994185",
        "outputId": "88678d83-2a11-4845-db1d-673fa8e1e5b1"
      },
      "outputs": [
        {
          "output_type": "display_data",
          "data": {
            "text/plain": [
              "<Figure size 640x480 with 2 Axes>"
            ],
            "image/png": "[encoded data removed]"
          },
          "metadata": {}
        }
      ],
      "source": [
        "resultados_mat = np.array(resultados).reshape((len(deltas), len(taus)))\n",
        "\n",
        "fig, ax = plt.subplots()\n",
        "im = ax.imshow(resultados_mat, cmap = 'magma', origin='lower', aspect='auto',\n",
        "                interpolation='none', extent=[min(taus) / w, max(taus) / w, min(deltas) / w, max(deltas) / w])\n",
        "plt.ylabel(r'$\\delta$')\n",
        "plt.xlabel(r'$\\tau$')\n",
        "plt.title(r'$I/(e\\Gamma_R)$')\n",
        "cbar = plt.colorbar(im)\n",
        "cbar.ax.set_ylabel(r'$\\max(\\rho_{RR})$')\n",
        "\n",
        "plt.savefig('current_dqd')"
      ]
    },
    {
      "cell_type": "code",
      "source": [],
      "metadata": {
        "id": "YbgVxOMKW5UF"
      },
      "id": "YbgVxOMKW5UF",
      "execution_count": null,
      "outputs": []
    }
  ],
  "metadata": {
    "kernelspec": {
      "display_name": "Python 3 (ipykernel)",
      "language": "python",
      "name": "python3"
    },
    "language_info": {
      "codemirror_mode": {
        "name": "ipython",
        "version": 3
      },
      "file_extension": ".py",
      "mimetype": "text/x-python",
      "name": "python",
      "nbconvert_exporter": "python",
      "pygments_lexer": "ipython3",
      "version": "3.8.18"
    },
    "colab": {
      "provenance": []
    },
    "widgets": {
      "application/vnd.jupyter.widget-state+json": {
        "9ae2d3ba960142ee92bac616a23f5ced": {
          "model_module": "@jupyter-widgets/controls",
          "model_name": "HBoxModel",
          "model_module_version": "1.5.0",
          "state": {
            "_dom_classes": [],
            "_model_module": "@jupyter-widgets/controls",
            "_model_module_version": "1.5.0",
            "_model_name": "HBoxModel",
            "_view_count": null,
            "_view_module": "@jupyter-widgets/controls",
            "_view_module_version": "1.5.0",
            "_view_name": "HBoxView",
            "box_style": "",
            "children": [
              "IPY_MODEL_6c93a749a0d44b02808a803f9d2b8be1",
              "IPY_MODEL_a66d70e1e2364b4eb61bc2dbf4021797",
              "IPY_MODEL_7fdc146eeec84ab8ae52b24e0caa1334"
            ],
            "layout": "IPY_MODEL_c54939c34a584154b1c5307589461789"
          }
        },
        "6c93a749a0d44b02808a803f9d2b8be1": {
          "model_module": "@jupyter-widgets/controls",
          "model_name": "HTMLModel",
          "model_module_version": "1.5.0",
          "state": {
            "_dom_classes": [],
            "_model_module": "@jupyter-widgets/controls",
            "_model_module_version": "1.5.0",
            "_model_name": "HTMLModel",
            "_view_count": null,
            "_view_module": "@jupyter-widgets/controls",
            "_view_module_version": "1.5.0",
            "_view_name": "HTMLView",
            "description": "",
            "description_tooltip": null,
            "layout": "IPY_MODEL_ef414bace79c4672ab8b558e9de7cfc9",
            "placeholder": "​",
            "style": "IPY_MODEL_93df6a2a45f641949eba15540a75ac1f",
            "value": "Calculando...: 100%"
          }
        },
        "a66d70e1e2364b4eb61bc2dbf4021797": {
          "model_module": "@jupyter-widgets/controls",
          "model_name": "FloatProgressModel",
          "model_module_version": "1.5.0",
          "state": {
            "_dom_classes": [],
            "_model_module": "@jupyter-widgets/controls",
            "_model_module_version": "1.5.0",
            "_model_name": "FloatProgressModel",
            "_view_count": null,
            "_view_module": "@jupyter-widgets/controls",
            "_view_module_version": "1.5.0",
            "_view_name": "ProgressView",
            "bar_style": "success",
            "description": "",
            "description_tooltip": null,
            "layout": "IPY_MODEL_cee36919738e4329b73274626f1c773a",
            "max": 10201,
            "min": 0,
            "orientation": "horizontal",
            "style": "IPY_MODEL_8d5f8e4511e94d4ab68cc83884fc9dda",
            "value": 10201
          }
        },
        "7fdc146eeec84ab8ae52b24e0caa1334": {
          "model_module": "@jupyter-widgets/controls",
          "model_name": "HTMLModel",
          "model_module_version": "1.5.0",
          "state": {
            "_dom_classes": [],
            "_model_module": "@jupyter-widgets/controls",
            "_model_module_version": "1.5.0",
            "_model_name": "HTMLModel",
            "_view_count": null,
            "_view_module": "@jupyter-widgets/controls",
            "_view_module_version": "1.5.0",
            "_view_name": "HTMLView",
            "description": "",
            "description_tooltip": null,
            "layout": "IPY_MODEL_b3ba841ff1e14ffdb755e9efab1c4709",
            "placeholder": "​",
            "style": "IPY_MODEL_db840c82f63c41debdf141d12fd057a2",
            "value": " 10201/10201 [35:27&lt;00:00,  4.95it/s]"
          }
        },
        "c54939c34a584154b1c5307589461789": {
          "model_module": "@jupyter-widgets/base",
          "model_name": "LayoutModel",
          "model_module_version": "1.2.0",
          "state": {
            "_model_module": "@jupyter-widgets/base",
            "_model_module_version": "1.2.0",
            "_model_name": "LayoutModel",
            "_view_count": null,
            "_view_module": "@jupyter-widgets/base",
            "_view_module_version": "1.2.0",
            "_view_name": "LayoutView",
            "align_content": null,
            "align_items": null,
            "align_self": null,
            "border": null,
            "bottom": null,
            "display": null,
            "flex": null,
            "flex_flow": null,
            "grid_area": null,
            "grid_auto_columns": null,
            "grid_auto_flow": null,
            "grid_auto_rows": null,
            "grid_column": null,
            "grid_gap": null,
            "grid_row": null,
            "grid_template_areas": null,
            "grid_template_columns": null,
            "grid_template_rows": null,
            "height": null,
            "justify_content": null,
            "justify_items": null,
            "left": null,
            "margin": null,
            "max_height": null,
            "max_width": null,
            "min_height": null,
            "min_width": null,
            "object_fit": null,
            "object_position": null,
            "order": null,
            "overflow": null,
            "overflow_x": null,
            "overflow_y": null,
            "padding": null,
            "right": null,
            "top": null,
            "visibility": null,
            "width": null
          }
        },
        "ef414bace79c4672ab8b558e9de7cfc9": {
          "model_module": "@jupyter-widgets/base",
          "model_name": "LayoutModel",
          "model_module_version": "1.2.0",
          "state": {
            "_model_module": "@jupyter-widgets/base",
            "_model_module_version": "1.2.0",
            "_model_name": "LayoutModel",
            "_view_count": null,
            "_view_module": "@jupyter-widgets/base",
            "_view_module_version": "1.2.0",
            "_view_name": "LayoutView",
            "align_content": null,
            "align_items": null,
            "align_self": null,
            "border": null,
            "bottom": null,
            "display": null,
            "flex": null,
            "flex_flow": null,
            "grid_area": null,
            "grid_auto_columns": null,
            "grid_auto_flow": null,
            "grid_auto_rows": null,
            "grid_column": null,
            "grid_gap": null,
            "grid_row": null,
            "grid_template_areas": null,
            "grid_template_columns": null,
            "grid_template_rows": null,
            "height": null,
            "justify_content": null,
            "justify_items": null,
            "left": null,
            "margin": null,
            "max_height": null,
            "max_width": null,
            "min_height": null,
            "min_width": null,
            "object_fit": null,
            "object_position": null,
            "order": null,
            "overflow": null,
            "overflow_x": null,
            "overflow_y": null,
            "padding": null,
            "right": null,
            "top": null,
            "visibility": null,
            "width": null
          }
        },
        "93df6a2a45f641949eba15540a75ac1f": {
          "model_module": "@jupyter-widgets/controls",
          "model_name": "DescriptionStyleModel",
          "model_module_version": "1.5.0",
          "state": {
            "_model_module": "@jupyter-widgets/controls",
            "_model_module_version": "1.5.0",
            "_model_name": "DescriptionStyleModel",
            "_view_count": null,
            "_view_module": "@jupyter-widgets/base",
            "_view_module_version": "1.2.0",
            "_view_name": "StyleView",
            "description_width": ""
          }
        },
        "cee36919738e4329b73274626f1c773a": {
          "model_module": "@jupyter-widgets/base",
          "model_name": "LayoutModel",
          "model_module_version": "1.2.0",
          "state": {
            "_model_module": "@jupyter-widgets/base",
            "_model_module_version": "1.2.0",
            "_model_name": "LayoutModel",
            "_view_count": null,
            "_view_module": "@jupyter-widgets/base",
            "_view_module_version": "1.2.0",
            "_view_name": "LayoutView",
            "align_content": null,
            "align_items": null,
            "align_self": null,
            "border": null,
            "bottom": null,
            "display": null,
            "flex": null,
            "flex_flow": null,
            "grid_area": null,
            "grid_auto_columns": null,
            "grid_auto_flow": null,
            "grid_auto_rows": null,
            "grid_column": null,
            "grid_gap": null,
            "grid_row": null,
            "grid_template_areas": null,
            "grid_template_columns": null,
            "grid_template_rows": null,
            "height": null,
            "justify_content": null,
            "justify_items": null,
            "left": null,
            "margin": null,
            "max_height": null,
            "max_width": null,
            "min_height": null,
            "min_width": null,
            "object_fit": null,
            "object_position": null,
            "order": null,
            "overflow": null,
            "overflow_x": null,
            "overflow_y": null,
            "padding": null,
            "right": null,
            "top": null,
            "visibility": null,
            "width": null
          }
        },
        "8d5f8e4511e94d4ab68cc83884fc9dda": {
          "model_module": "@jupyter-widgets/controls",
          "model_name": "ProgressStyleModel",
          "model_module_version": "1.5.0",
          "state": {
            "_model_module": "@jupyter-widgets/controls",
            "_model_module_version": "1.5.0",
            "_model_name": "ProgressStyleModel",
            "_view_count": null,
            "_view_module": "@jupyter-widgets/base",
            "_view_module_version": "1.2.0",
            "_view_name": "StyleView",
            "bar_color": null,
            "description_width": ""
          }
        },
        "b3ba841ff1e14ffdb755e9efab1c4709": {
          "model_module": "@jupyter-widgets/base",
          "model_name": "LayoutModel",
          "model_module_version": "1.2.0",
          "state": {
            "_model_module": "@jupyter-widgets/base",
            "_model_module_version": "1.2.0",
            "_model_name": "LayoutModel",
            "_view_count": null,
            "_view_module": "@jupyter-widgets/base",
            "_view_module_version": "1.2.0",
            "_view_name": "LayoutView",
            "align_content": null,
            "align_items": null,
            "align_self": null,
            "border": null,
            "bottom": null,
            "display": null,
            "flex": null,
            "flex_flow": null,
            "grid_area": null,
            "grid_auto_columns": null,
            "grid_auto_flow": null,
            "grid_auto_rows": null,
            "grid_column": null,
            "grid_gap": null,
            "grid_row": null,
            "grid_template_areas": null,
            "grid_template_columns": null,
            "grid_template_rows": null,
            "height": null,
            "justify_content": null,
            "justify_items": null,
            "left": null,
            "margin": null,
            "max_height": null,
            "max_width": null,
            "min_height": null,
            "min_width": null,
            "object_fit": null,
            "object_position": null,
            "order": null,
            "overflow": null,
            "overflow_x": null,
            "overflow_y": null,
            "padding": null,
            "right": null,
            "top": null,
            "visibility": null,
            "width": null
          }
        },
        "db840c82f63c41debdf141d12fd057a2": {
          "model_module": "@jupyter-widgets/controls",
          "model_name": "DescriptionStyleModel",
          "model_module_version": "1.5.0",
          "state": {
            "_model_module": "@jupyter-widgets/controls",
            "_model_module_version": "1.5.0",
            "_model_name": "DescriptionStyleModel",
            "_view_count": null,
            "_view_module": "@jupyter-widgets/base",
            "_view_module_version": "1.2.0",
            "_view_name": "StyleView",
            "description_width": ""
          }
        }
      }
    }
  },
  "nbformat": 4,
  "nbformat_minor": 5
}